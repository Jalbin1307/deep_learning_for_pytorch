{
 "cells": [
  {
   "cell_type": "markdown",
   "id": "0194774b",
   "metadata": {},
   "source": [
    "## 1. 함수(function)과 클래스(Class)의 차이\n",
    "---\n",
    "우선 함수와 클래스의 차이를 이해하기 위해 덧셈을 지속적으로 수행할 수 있는 도구를 함수와 클래스로 각각 만든다.\n",
    "### 1. 함수(function)로 덧셈기 구현\n",
    "우선 add 함수를 파이썬으로 구현하고 result라는 전역 변수를 선언한다."
   ]
  },
  {
   "cell_type": "code",
   "execution_count": 1,
   "id": "227acb15",
   "metadata": {},
   "outputs": [],
   "source": [
    "result = 0"
   ]
  },
  {
   "cell_type": "code",
   "execution_count": 2,
   "id": "65f40b98",
   "metadata": {},
   "outputs": [],
   "source": [
    "def add(num):\n",
    "    global result\n",
    "    result += num\n",
    "    return result"
   ]
  },
  {
   "cell_type": "code",
   "execution_count": 3,
   "id": "abd1a17f",
   "metadata": {},
   "outputs": [
    {
     "name": "stdout",
     "output_type": "stream",
     "text": [
      "3\n",
      "7\n"
     ]
    }
   ],
   "source": [
    "print(add(3))\n",
    "print(add(4))"
   ]
  },
  {
   "cell_type": "markdown",
   "id": "bc4cdb00",
   "metadata": {},
   "source": [
    "### 2. 함수(function)로 두 개의 덧셈기 구현\n",
    "이번에는 독립적인 두 개의 덧셈기를 만든다."
   ]
  },
  {
   "cell_type": "code",
   "execution_count": 4,
   "id": "df32557b",
   "metadata": {},
   "outputs": [
    {
     "name": "stdout",
     "output_type": "stream",
     "text": [
      "3\n",
      "7\n",
      "3\n",
      "10\n"
     ]
    }
   ],
   "source": [
    "result1 = 0\n",
    "result2 = 0\n",
    "\n",
    "def add1(num):\n",
    "    global result1\n",
    "    result1 += num\n",
    "    return result1\n",
    "\n",
    "def add2(num):\n",
    "    global result2\n",
    "    result2 += num\n",
    "    return result2\n",
    "\n",
    "print(add1(3))\n",
    "print(add1(4))\n",
    "print(add2(3))\n",
    "print(add2(7))"
   ]
  },
  {
   "cell_type": "markdown",
   "id": "40198e1d",
   "metadata": {},
   "source": [
    "서로의 값에 영향을 주지않고 서로 다른 연산을 하는 것을 볼 수 있다."
   ]
  },
  {
   "cell_type": "markdown",
   "id": "e8e67776",
   "metadata": {},
   "source": [
    "### 3. 클래스(class)로 덧셈기 구현\n",
    "이번에는 클래스로 구현해본다."
   ]
  },
  {
   "cell_type": "code",
   "execution_count": 5,
   "id": "f045ef4d",
   "metadata": {},
   "outputs": [],
   "source": [
    "class Calculator:\n",
    "    def __init__(self):\n",
    "        self.result = 0\n",
    "        \n",
    "    def add(self, num):\n",
    "        self.result += num\n",
    "        return self.result"
   ]
  },
  {
   "cell_type": "markdown",
   "id": "f16c8d9c",
   "metadata": {},
   "source": [
    "클래스는 마치 틀과 같아서 클래스를 생성한 후에는 이걸로 객체라는 것을 만들 수 있다."
   ]
  },
  {
   "cell_type": "code",
   "execution_count": 6,
   "id": "8858f07f",
   "metadata": {},
   "outputs": [],
   "source": [
    "cal1 = Calculator()\n",
    "cal2 = Calculator()"
   ]
  },
  {
   "cell_type": "code",
   "execution_count": 7,
   "id": "ea8a6e0f",
   "metadata": {},
   "outputs": [
    {
     "name": "stdout",
     "output_type": "stream",
     "text": [
      "3\n",
      "7\n",
      "3\n",
      "10\n"
     ]
    }
   ],
   "source": [
    "print(cal1.add(3))\n",
    "print(cal1.add(4))\n",
    "print(cal2.add(3))\n",
    "print(cal2.add(7))"
   ]
  },
  {
   "cell_type": "markdown",
   "id": "2ef3450a",
   "metadata": {},
   "source": [
    "두 개의 객체는 독립적으로 연산되고 있음을 알 수 있다. 앞에서는 이렇게 독립적인 두 개의 덧셈기를 함수로 구현하려고 했다면 함수를 두 개 만들어야 했지만, 클래스라는 것을 하나 선언하고, 이 클래스를 통해 별도의 객체를 생성하자 코드가 훨씬 간결해졌다."
   ]
  },
  {
   "cell_type": "code",
   "execution_count": null,
   "id": "822b9e08",
   "metadata": {},
   "outputs": [],
   "source": []
  }
 ],
 "metadata": {
  "kernelspec": {
   "display_name": "Python 3",
   "language": "python",
   "name": "python3"
  },
  "language_info": {
   "codemirror_mode": {
    "name": "ipython",
    "version": 3
   },
   "file_extension": ".py",
   "mimetype": "text/x-python",
   "name": "python",
   "nbconvert_exporter": "python",
   "pygments_lexer": "ipython3",
   "version": "3.7.10"
  }
 },
 "nbformat": 4,
 "nbformat_minor": 5
}
