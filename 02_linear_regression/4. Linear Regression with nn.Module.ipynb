{
 "cells": [
  {
   "cell_type": "markdown",
   "id": "9f6d5229",
   "metadata": {},
   "source": [
    "이전 챕터까지는 선형 회귀를 좀 더 직접적으로 이해하기 위해 가설, 비용 함수를 직접 정의해서 선형 회귀 모델을 구현했다. 이번에는 파이토치에서 이미 구현되어져 제공되고 있는 함수들을 불러오는 것으로 더 쉽게 선형 회귀 모델을 구현해본다. <br><br>\n",
    "예를 들어 파이토치에서는 선형 회귀 모델이 nn.Linear()라는 함수로, 또 평균 제곱오차가 nn.functional.mse_loss()라는 함수로 구현되어져있다."
   ]
  },
  {
   "cell_type": "markdown",
   "id": "2d3ef6d4",
   "metadata": {},
   "source": [
    "## 1. 단순 선형 회귀 구현하기\n",
    "---"
   ]
  },
  {
   "cell_type": "code",
   "execution_count": 22,
   "id": "c65e87eb",
   "metadata": {},
   "outputs": [],
   "source": [
    "import torch\n",
    "import torch.nn as nn\n",
    "import torch.nn.functional as F"
   ]
  },
  {
   "cell_type": "code",
   "execution_count": 23,
   "id": "2cddc6ec",
   "metadata": {},
   "outputs": [
    {
     "data": {
      "text/plain": [
       "<torch._C.Generator at 0x7fcff273d290>"
      ]
     },
     "execution_count": 23,
     "metadata": {},
     "output_type": "execute_result"
    }
   ],
   "source": [
    "torch.manual_seed(1)"
   ]
  },
  {
   "cell_type": "markdown",
   "id": "e8c77666",
   "metadata": {},
   "source": [
    "이제 데이터를 선언한다. 아래 데이터는 y = 2x로 가정된 상태에서 만들어진 데이터로 우리는 이미 정답이 W=2, b=0임을 알고 있는 상태다.<br>\n",
    "우리의 목표는 모델이 W와 b의 값을 제대로 찾아내는 것이다."
   ]
  },
  {
   "cell_type": "code",
   "execution_count": 24,
   "id": "9b6d6250",
   "metadata": {},
   "outputs": [],
   "source": [
    "x_train = torch.FloatTensor([[1], [2], [3]])\n",
    "y_train = torch.FloatTensor([[2], [4], [6]])"
   ]
  },
  {
   "cell_type": "markdown",
   "id": "20a59bd1",
   "metadata": {},
   "source": [
    "데이터를 정의했으니 이제 선형 회귀 모델을 구현할 차례다.<br>\n",
    "nn.Linear()는 입력의 차원, 출력의 차원을 인수로 받는다."
   ]
  },
  {
   "cell_type": "code",
   "execution_count": 25,
   "id": "dfad3714",
   "metadata": {},
   "outputs": [],
   "source": [
    "model = nn.Linear(1, 1)"
   ]
  },
  {
   "cell_type": "markdown",
   "id": "30f6230c",
   "metadata": {},
   "source": [
    "torch.nn.Linear 인자로 1, 1을 사용했는데 이는 하나의 입력 x에 대해서 하나의 출력 y를 가지기 때문이다. <br>\n",
    "model에는 가중치 W와 편향 b가 저장되어져있다. 이 값은 model.parameters()라는 함수를 사용하여 불러올 수 있다."
   ]
  },
  {
   "cell_type": "code",
   "execution_count": 26,
   "id": "9386b1d4",
   "metadata": {},
   "outputs": [
    {
     "name": "stdout",
     "output_type": "stream",
     "text": [
      "[Parameter containing:\n",
      "tensor([[0.5153]], requires_grad=True), Parameter containing:\n",
      "tensor([-0.4414], requires_grad=True)]\n"
     ]
    }
   ],
   "source": [
    "print(list(model.parameters()))"
   ]
  },
  {
   "cell_type": "markdown",
   "id": "d99c4152",
   "metadata": {},
   "source": [
    "2개의 값이 출력되는데 첫번째 값이 W고, 두번째 값이 b에 해당된다. 두 값 모두 현재는 랜덤 초기화가 되어져있다. 그리고 두 값 모두 학습의 대상이므로 requires_grad=True가 되어져 있는 것을 볼 수 있다. <br><br>\n",
    "이제 옵티마이저를 정의하고 model.parameters()를 사용하여 W와 b를 전달한다.<br>\n",
    "학습률(learning rate)은 0.01로 정한다."
   ]
  },
  {
   "cell_type": "code",
   "execution_count": 27,
   "id": "3692d1ad",
   "metadata": {},
   "outputs": [],
   "source": [
    "optimizer = torch.optim.SGD(model.parameters(), lr=0.01)"
   ]
  },
  {
   "cell_type": "code",
   "execution_count": 28,
   "id": "4338081f",
   "metadata": {},
   "outputs": [
    {
     "name": "stdout",
     "output_type": "stream",
     "text": [
      "Epoch    0/2000 Cost: 13.103541\n",
      "Epoch  100/2000 Cost: 0.002791\n",
      "Epoch  200/2000 Cost: 0.001724\n",
      "Epoch  300/2000 Cost: 0.001066\n",
      "Epoch  400/2000 Cost: 0.000658\n",
      "Epoch  500/2000 Cost: 0.000407\n",
      "Epoch  600/2000 Cost: 0.000251\n",
      "Epoch  700/2000 Cost: 0.000155\n",
      "Epoch  800/2000 Cost: 0.000096\n",
      "Epoch  900/2000 Cost: 0.000059\n",
      "Epoch 1000/2000 Cost: 0.000037\n",
      "Epoch 1100/2000 Cost: 0.000023\n",
      "Epoch 1200/2000 Cost: 0.000014\n",
      "Epoch 1300/2000 Cost: 0.000009\n",
      "Epoch 1400/2000 Cost: 0.000005\n",
      "Epoch 1500/2000 Cost: 0.000003\n",
      "Epoch 1600/2000 Cost: 0.000002\n",
      "Epoch 1700/2000 Cost: 0.000001\n",
      "Epoch 1800/2000 Cost: 0.000001\n",
      "Epoch 1900/2000 Cost: 0.000000\n",
      "Epoch 2000/2000 Cost: 0.000000\n"
     ]
    }
   ],
   "source": [
    "nb_epochs = 2000\n",
    "for epoch in range(nb_epochs+1):\n",
    "    \n",
    "    # H(x) 계산\n",
    "    prediction = model(x_train)\n",
    "    \n",
    "    # cost 계산\n",
    "    cost = F.mse_loss(prediction, y_train)\n",
    "    \n",
    "    # cost로 H(x) 개선\n",
    "    optimizer.zero_grad()\n",
    "    cost.backward()\n",
    "    optimizer.step()\n",
    "    \n",
    "    if epoch % 100 == 0:\n",
    "        print('Epoch {:4d}/{} Cost: {:.6f}'.format(\n",
    "            epoch, nb_epochs, cost.item()\n",
    "        ))"
   ]
  },
  {
   "cell_type": "markdown",
   "id": "4c9fcf07",
   "metadata": {},
   "source": [
    "학습이 완료되었다. Cost의 값이 매우 작다. W와 b의 값도 최적화가 되었는지 확인해본다. <br>\n",
    "x에 임의의 값을 4를 넣어 모델이 예측하는 y의 값을 확인해본다."
   ]
  },
  {
   "cell_type": "code",
   "execution_count": 29,
   "id": "989f9031",
   "metadata": {},
   "outputs": [
    {
     "name": "stdout",
     "output_type": "stream",
     "text": [
      "훈련 후 입력이 4일 때의 예측값 : tensor([[7.9989]], grad_fn=<AddmmBackward>)\n"
     ]
    }
   ],
   "source": [
    "new_var = torch.FloatTensor([[4.0]])\n",
    "\n",
    "pred_y = model(new_var)\n",
    "\n",
    "print(\"훈련 후 입력이 4일 때의 예측값 :\", pred_y)"
   ]
  },
  {
   "cell_type": "markdown",
   "id": "f3c492e5",
   "metadata": {},
   "source": [
    "이제 학습 후의 W와 b의 값을 출력해본다."
   ]
  },
  {
   "cell_type": "code",
   "execution_count": 30,
   "id": "e49a3a42",
   "metadata": {},
   "outputs": [
    {
     "name": "stdout",
     "output_type": "stream",
     "text": [
      "[Parameter containing:\n",
      "tensor([[1.9994]], requires_grad=True), Parameter containing:\n",
      "tensor([0.0014], requires_grad=True)]\n"
     ]
    }
   ],
   "source": [
    "print(list(model.parameters()))"
   ]
  },
  {
   "cell_type": "markdown",
   "id": "7d78fc8b",
   "metadata": {},
   "source": [
    "W의 값이 2에 가깝고, b의 값이 0에 가까운 것을 볼 수 있다.<br><br>\n",
    "- H(x) 식에 입력 x로부터 예측된 y를 얻는 것을 forward 연산이라고 한다.\n",
    "- 학습 전, prediction = model(x_train)은 x_train으로부터 예측값을 리턴하므로 forward 연산이다.\n",
    "- 학습 후, pred_y = model(new_var)는 임의의 값 new_var로부터 예측값을 리턴하므로 forward 연산이다.\n",
    "- 학습 과정에서 비용 함수를 미분하여 기울기를 구하는 것을 backward 연산이라고 한다.\n",
    "- cost.backward()는 비용 함수로부터 기울기를 구하라는 의미이며 backward 연산이다."
   ]
  },
  {
   "cell_type": "markdown",
   "id": "65d0407a",
   "metadata": {},
   "source": [
    "## 2. 다중 선형 회귀 구현하기\n",
    "---\n",
    "이제 nn.Linear()와 nn.functional.mse_loss()로 다중 선형 회귀를 구현해본다. 사실 코드 자체는 달라지는 건 거의 없고, nn.Linear()의 인자값과 학습률(learning rate)만 조절해준다."
   ]
  },
  {
   "cell_type": "code",
   "execution_count": 38,
   "id": "1426ca2f",
   "metadata": {},
   "outputs": [],
   "source": [
    "import torch\n",
    "import torch.nn as nn\n",
    "import torch.nn.functional as F"
   ]
  },
  {
   "cell_type": "code",
   "execution_count": 39,
   "id": "6b4d2720",
   "metadata": {},
   "outputs": [
    {
     "data": {
      "text/plain": [
       "<torch._C.Generator at 0x7fcff273d290>"
      ]
     },
     "execution_count": 39,
     "metadata": {},
     "output_type": "execute_result"
    }
   ],
   "source": [
    "torch.manual_seed(1)"
   ]
  },
  {
   "cell_type": "markdown",
   "id": "4c52def6",
   "metadata": {},
   "source": [
    "이제 데이터를 선언해준다. 여기서는 3개의 x로 부터 하나의 y를 예측하는 문제다.<br>\n",
    "즉, H(x) = w1x1 + w2x2 + w3x3 + b"
   ]
  },
  {
   "cell_type": "code",
   "execution_count": 40,
   "id": "f68b6222",
   "metadata": {},
   "outputs": [],
   "source": [
    "x_train = torch.FloatTensor([[73, 80, 75],\n",
    "                             [93, 88, 93],\n",
    "                             [89, 81, 90],\n",
    "                             [96, 98, 100],\n",
    "                             [73, 66, 70]])\n",
    "y_train = torch.FloatTensor([[152], [185], [180], [196], [142]])"
   ]
  },
  {
   "cell_type": "markdown",
   "id": "b060516a",
   "metadata": {},
   "source": [
    "데이터를 정의했으니 이제 선형 회귀 모델을 구현한다. ```nn.Linear()```는 입력의 차원, 출력의 차원을 인수로 받는다."
   ]
  },
  {
   "cell_type": "code",
   "execution_count": 41,
   "id": "e04a88d0",
   "metadata": {},
   "outputs": [],
   "source": [
    "# input_dim = 3, output_dim = 1\n",
    "model = nn.Linear(3,1)"
   ]
  },
  {
   "cell_type": "code",
   "execution_count": 42,
   "id": "53a21c56",
   "metadata": {},
   "outputs": [
    {
     "name": "stdout",
     "output_type": "stream",
     "text": [
      "[Parameter containing:\n",
      "tensor([[ 0.2975, -0.2548, -0.1119]], requires_grad=True), Parameter containing:\n",
      "tensor([0.2710], requires_grad=True)]\n"
     ]
    }
   ],
   "source": [
    "print(list(model.parameters()))"
   ]
  },
  {
   "attachments": {
    "image.png": {
     "image/png": "[encoded data removed]"
    }
   },
   "cell_type": "markdown",
   "id": "e43a8e80",
   "metadata": {},
   "source": [
    "첫번째 출력되는 것이 3개의 w고, 두번째 출력되는 것이 b에 해당된다. 두 값 모두 현재는 랜덤 초기화가 되어져있다. 그리고 두 출력 결과 모두 학습의 대상이므로 requires_grad=True가 되어져 있는 것을 볼 수 있다. <br><br>\n",
    "이제 옵티마이저를 정의한다. model.parameters()를 사용하여 3개의 w와 b를 전달한다. 학습률(learning rate)은 0.00001로 정한다 (0.01로 하게 되면 발산하기 때문)\n",
    "![image.png](attachment:image.png)"
   ]
  },
  {
   "cell_type": "markdown",
   "id": "2fd278f4",
   "metadata": {},
   "source": [
    "위의 그림은 학습률이 모델에 필요한 크기보다 높을 때, 기울기가 발산하는 현상을 보여준다."
   ]
  },
  {
   "cell_type": "code",
   "execution_count": 43,
   "id": "495f6cc5",
   "metadata": {},
   "outputs": [],
   "source": [
    "optimizer = torch.optim.SGD(model.parameters(), lr=1e-5)"
   ]
  },
  {
   "cell_type": "code",
   "execution_count": 44,
   "id": "11eb82c1",
   "metadata": {},
   "outputs": [
    {
     "name": "stdout",
     "output_type": "stream",
     "text": [
      "Epoch    0/2000 Cost: 31478.777344\n",
      "Epoch  100/2000 Cost: 2.288997\n",
      "Epoch  200/2000 Cost: 2.269025\n",
      "Epoch  300/2000 Cost: 2.250343\n",
      "Epoch  400/2000 Cost: 2.232847\n",
      "Epoch  500/2000 Cost: 2.216474\n",
      "Epoch  600/2000 Cost: 2.201149\n",
      "Epoch  700/2000 Cost: 2.186759\n",
      "Epoch  800/2000 Cost: 2.173261\n",
      "Epoch  900/2000 Cost: 2.160644\n",
      "Epoch 1000/2000 Cost: 2.148797\n",
      "Epoch 1100/2000 Cost: 2.137662\n",
      "Epoch 1200/2000 Cost: 2.127201\n",
      "Epoch 1300/2000 Cost: 2.117379\n",
      "Epoch 1400/2000 Cost: 2.108119\n",
      "Epoch 1500/2000 Cost: 2.099442\n",
      "Epoch 1600/2000 Cost: 2.091246\n",
      "Epoch 1700/2000 Cost: 2.083529\n",
      "Epoch 1800/2000 Cost: 2.076251\n",
      "Epoch 1900/2000 Cost: 2.069404\n",
      "Epoch 2000/2000 Cost: 2.062903\n"
     ]
    }
   ],
   "source": [
    "nb_epochs = 2000\n",
    "for epoch in range(nb_epochs+1):\n",
    "    \n",
    "    # H(x) 계산\n",
    "    prediction = model(x_train)\n",
    "    # model(x_train)은 model.forward(x_train)과 동일\n",
    "    \n",
    "    # cost 계산\n",
    "    cost = F.mse_loss(prediction, y_train)\n",
    "    \n",
    "    # cost로 H(x) 개선\n",
    "    optimizer.zero_grad()\n",
    "    cost.backward()\n",
    "    optimizer.step()\n",
    "    \n",
    "    if epoch % 100 == 0:\n",
    "        print('Epoch {:4d}/{} Cost: {:.6f}'.format(\n",
    "          epoch, nb_epochs, cost.item()\n",
    "      ))"
   ]
  },
  {
   "cell_type": "markdown",
   "id": "061b1fcf",
   "metadata": {},
   "source": [
    "x에 임의의 입력값을 넣어 모델이 예측하는 y의 값을 확인해본다."
   ]
  },
  {
   "cell_type": "code",
   "execution_count": 45,
   "id": "d335b65b",
   "metadata": {},
   "outputs": [
    {
     "name": "stdout",
     "output_type": "stream",
     "text": [
      "훈련 후 입력이 73, 80, 75일 때의 예측값 : tensor([[151.3475]], grad_fn=<AddmmBackward>)\n"
     ]
    }
   ],
   "source": [
    "new_var = torch.FloatTensor([[73, 80, 75]])\n",
    "pred_y = model(new_var)\n",
    "print(\"훈련 후 입력이 73, 80, 75일 때의 예측값 :\", pred_y)"
   ]
  },
  {
   "cell_type": "code",
   "execution_count": 46,
   "id": "27b0c86d",
   "metadata": {},
   "outputs": [
    {
     "name": "stdout",
     "output_type": "stream",
     "text": [
      "[Parameter containing:\n",
      "tensor([[1.0173, 0.3702, 0.6292]], requires_grad=True), Parameter containing:\n",
      "tensor([0.2797], requires_grad=True)]\n"
     ]
    }
   ],
   "source": [
    "print(list(model.parameters()))"
   ]
  }
 ],
 "metadata": {
  "kernelspec": {
   "display_name": "Python 3",
   "language": "python",
   "name": "python3"
  },
  "language_info": {
   "codemirror_mode": {
    "name": "ipython",
    "version": 3
   },
   "file_extension": ".py",
   "mimetype": "text/x-python",
   "name": "python",
   "nbconvert_exporter": "python",
   "pygments_lexer": "ipython3",
   "version": "3.7.10"
  }
 },
 "nbformat": 4,
 "nbformat_minor": 5
}
