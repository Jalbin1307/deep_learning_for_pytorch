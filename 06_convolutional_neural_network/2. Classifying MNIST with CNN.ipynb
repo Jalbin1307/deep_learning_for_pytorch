{
 "cells": [
  {
   "cell_type": "markdown",
   "id": "df232618",
   "metadata": {},
   "source": [
    "## 1. 모델 이해하기\n",
    "---\n",
    "우리가 만들 모델의 아키텍처를 이해해본다. 합성곱 신경망은 출처에 따라서 합성곱 층을 부르는 단위가 조금 다르다.<br><br>\n",
    "### 1. 첫번째 표기 방법\n",
    "합성곱(nn.Conv2d) + 활성화 함수(nn.ReLU)를 하나의 합성곱 층으로 보고, 맥스 풀링(nn.MaxPoold2d)은 풀링 층으로 별도 명명한다.<br><br>\n",
    "### 2. 두번째 표기 방법\n",
    "합성곱(nn.Conv2d) + 활성화 함수(nn.ReLU) + 맥스풀링(nn.MaxPoold2d)을 하나의 합성곱 층으로 본다.<br><br>\n",
    "다시 말해 풀링도 하나의 층으로 보느냐, 안 보느냐의 문제인데 누가 옳고 틀리냐의 문제는 아니므로, 이번 챕터에서는 편의를 위해 맥스 풀링까지도 포함해서 하나의 합성곱 층으로 판단하고 정리해본다. 다시 말해 두번째 표기 방법을 택한다.<br><br>"
   ]
  },
  {
   "cell_type": "markdown",
   "id": "f72d92ac",
   "metadata": {},
   "source": [
    "## 2. 모델 구현하기"
   ]
  },
  {
   "cell_type": "markdown",
   "id": "d13a7432",
   "metadata": {},
   "source": [
    "### 1. 필요한 도구 임포트와 입력의 정의"
   ]
  },
  {
   "cell_type": "code",
   "execution_count": 25,
   "id": "e0ef789b",
   "metadata": {},
   "outputs": [],
   "source": [
    "import torch\n",
    "import torch.nn as nn"
   ]
  },
  {
   "cell_type": "markdown",
   "id": "c5f26ec9",
   "metadata": {},
   "source": [
    "임의의 텐서를 만든다. 텐서의 크기는 1 x 1 x 28 x 28이다."
   ]
  },
  {
   "cell_type": "code",
   "execution_count": 26,
   "id": "14a2166c",
   "metadata": {},
   "outputs": [
    {
     "name": "stdout",
     "output_type": "stream",
     "text": [
      "텐서의 크기 : torch.Size([1, 1, 28, 28])\n"
     ]
    }
   ],
   "source": [
    "inputs = torch.Tensor(1, 1, 28, 28)\n",
    "print('텐서의 크기 : {}'.format(inputs.shape))"
   ]
  },
  {
   "cell_type": "markdown",
   "id": "c9db9835",
   "metadata": {},
   "source": [
    "### 2. 합성곱층과 풀링 선언하기\n",
    "이제 첫번째 합성곱 층을 구현해본다. 1채널 짜리를 입력받아서 32채널을 뽑아내는데 커널 사이즈는 3이고 패딩은 1이다."
   ]
  },
  {
   "cell_type": "code",
   "execution_count": 27,
   "id": "f51c32ad",
   "metadata": {},
   "outputs": [
    {
     "name": "stdout",
     "output_type": "stream",
     "text": [
      "Conv2d(1, 32, kernel_size=(3, 3), stride=(1, 1), padding=(1, 1))\n"
     ]
    }
   ],
   "source": [
    "conv1 = nn.Conv2d(1, 32, 3, padding=1)\n",
    "print(conv1)"
   ]
  },
  {
   "cell_type": "markdown",
   "id": "46683c29",
   "metadata": {},
   "source": [
    "이제 두번째 합성곱 층을 구현해본다. 32채널 짜리를 입력받아서 64채널을 뽑아내는데 커널 사이즈는 3이고 패딩은 1이다."
   ]
  },
  {
   "cell_type": "code",
   "execution_count": 28,
   "id": "549ad6db",
   "metadata": {},
   "outputs": [
    {
     "name": "stdout",
     "output_type": "stream",
     "text": [
      "Conv2d(32, 64, kernel_size=(3, 3), stride=(1, 1), padding=(1, 1))\n"
     ]
    }
   ],
   "source": [
    "conv2 = nn.Conv2d(32, 64, kernel_size=3, padding=1)\n",
    "print(conv2)"
   ]
  },
  {
   "cell_type": "markdown",
   "id": "1679660a",
   "metadata": {},
   "source": [
    "이제 맥스풀링을 구현해본다. 정수 하나를 인자로 넣으면 커널 사이즈와 스트라이드가 둘 다 해당값으로 지정된다."
   ]
  },
  {
   "cell_type": "code",
   "execution_count": 29,
   "id": "881bfcfe",
   "metadata": {},
   "outputs": [
    {
     "name": "stdout",
     "output_type": "stream",
     "text": [
      "MaxPool2d(kernel_size=2, stride=2, padding=0, dilation=1, ceil_mode=False)\n"
     ]
    }
   ],
   "source": [
    "pool = nn.MaxPool2d(2)\n",
    "print(pool)"
   ]
  },
  {
   "cell_type": "markdown",
   "id": "cd58649f",
   "metadata": {},
   "source": [
    "### 3. 구현체를 연결하여 모델 만들기\n",
    "지금까지는 선언만한 것이고 아직 이들을 연결시키지는 않았다. 이들을 연결시켜서 모델을 완성시켜본다. 우선 입력을 첫번째 합성곱층을 통과시키고 합성곱층을 통과시킨 후의 텐서의 크기를 본다."
   ]
  },
  {
   "cell_type": "code",
   "execution_count": 30,
   "id": "ccc31ea7",
   "metadata": {},
   "outputs": [
    {
     "name": "stdout",
     "output_type": "stream",
     "text": [
      "torch.Size([1, 32, 28, 28])\n"
     ]
    }
   ],
   "source": [
    "out = conv1(inputs)\n",
    "print(out.shape)"
   ]
  },
  {
   "cell_type": "markdown",
   "id": "31779b3e",
   "metadata": {},
   "source": [
    "32채널의 28너비 28높이의 텐서가 되었다. 32가 나온 이유는 conv1의 out_channel로 32를 지정해주었기 때문이다. 또한, 28너비 28높이가 된 이유는 패딩을 1폭으로 하고 3 x 3 커널을 사용하면 크기가 보존되기 때문이다. 이제 이를 맥스풀링을 통과시키고 맥스풀링을 통과한 후의 텐서의 크기를 본다."
   ]
  },
  {
   "cell_type": "code",
   "execution_count": 31,
   "id": "f26dd445",
   "metadata": {},
   "outputs": [
    {
     "name": "stdout",
     "output_type": "stream",
     "text": [
      "torch.Size([1, 32, 14, 14])\n"
     ]
    }
   ],
   "source": [
    "out = pool(out)\n",
    "print(out.shape)"
   ]
  },
  {
   "cell_type": "markdown",
   "id": "0970f113",
   "metadata": {},
   "source": [
    "32채널의 14너비 14높이의 텐서가 되었다. 이제 이를 다시 두번째 합성곱층에 통과시키고 통과한 후의 텐서의 크기를 본다."
   ]
  },
  {
   "cell_type": "code",
   "execution_count": 32,
   "id": "aabd1e81",
   "metadata": {},
   "outputs": [
    {
     "name": "stdout",
     "output_type": "stream",
     "text": [
      "torch.Size([1, 64, 14, 14])\n"
     ]
    }
   ],
   "source": [
    "out = conv2(out)\n",
    "print(out.shape)"
   ]
  },
  {
   "cell_type": "markdown",
   "id": "15e50ecf",
   "metadata": {},
   "source": [
    "64채널의 14너비 14높이의 텐서가 되었다 .64가 나온 이유는 conv2의 out_channel로 64를 지정해주었기 때문이다. 또한, 14너비 14높이가 된 이유는 패딩을 1폭으로 하고 3 x 3 커널을 사용하면 크기가 보존되기 때문이다. 이제 이를 맥스풀링을 통과시키고 맥스풀링을 통과한 후의 텐서의 크기를 본다. 이제 이를 맥스풀링을 통과시키고 맥스풀링을 통과한 후의 텐서의 크기를 본다."
   ]
  },
  {
   "cell_type": "code",
   "execution_count": 33,
   "id": "c8439680",
   "metadata": {},
   "outputs": [
    {
     "name": "stdout",
     "output_type": "stream",
     "text": [
      "torch.Size([1, 64, 7, 7])\n"
     ]
    }
   ],
   "source": [
    "out = pool(out)\n",
    "print(out.shape)"
   ]
  },
  {
   "cell_type": "markdown",
   "id": "b11d4e13",
   "metadata": {},
   "source": [
    "이제 이 텐서를 펼치는 작업을 한다. 그런데 펼치기에 앞서 텐서의 n번째 차원을 접근하게 해주는 .size(n)에 대해서 배워본다. 현재 out의 크기는 1 x 64 x 7 x 7이다. out의 첫번째 차원이 몇인지 출력해본다."
   ]
  },
  {
   "cell_type": "code",
   "execution_count": 34,
   "id": "884dabd9",
   "metadata": {},
   "outputs": [
    {
     "data": {
      "text/plain": [
       "1"
      ]
     },
     "execution_count": 34,
     "metadata": {},
     "output_type": "execute_result"
    }
   ],
   "source": [
    "out.size(0)"
   ]
  },
  {
   "cell_type": "markdown",
   "id": "5fa9ee32",
   "metadata": {},
   "source": [
    "out의 첫번째 차원은 1이다. 나머지 차원이 몇인지 출력해본다."
   ]
  },
  {
   "cell_type": "code",
   "execution_count": 35,
   "id": "9185bbf2",
   "metadata": {},
   "outputs": [
    {
     "data": {
      "text/plain": [
       "64"
      ]
     },
     "execution_count": 35,
     "metadata": {},
     "output_type": "execute_result"
    }
   ],
   "source": [
    "out.size(1)"
   ]
  },
  {
   "cell_type": "code",
   "execution_count": 36,
   "id": "ee404525",
   "metadata": {},
   "outputs": [
    {
     "data": {
      "text/plain": [
       "7"
      ]
     },
     "execution_count": 36,
     "metadata": {},
     "output_type": "execute_result"
    }
   ],
   "source": [
    "out.size(2)"
   ]
  },
  {
   "cell_type": "code",
   "execution_count": 37,
   "id": "321f2589",
   "metadata": {},
   "outputs": [
    {
     "data": {
      "text/plain": [
       "7"
      ]
     },
     "execution_count": 37,
     "metadata": {},
     "output_type": "execute_result"
    }
   ],
   "source": [
    "out.size(3)"
   ]
  },
  {
   "cell_type": "markdown",
   "id": "3276e008",
   "metadata": {},
   "source": [
    "이제 이를 가지고 .view()를 사용하여 텐서를 펼치는 작업을 해본다."
   ]
  },
  {
   "cell_type": "code",
   "execution_count": 38,
   "id": "f5855d6b",
   "metadata": {},
   "outputs": [
    {
     "name": "stdout",
     "output_type": "stream",
     "text": [
      "torch.Size([1, 3136])\n"
     ]
    }
   ],
   "source": [
    "out = out.view(out.size(0), -1)\n",
    "print(out.shape)"
   ]
  },
  {
   "cell_type": "markdown",
   "id": "2b3a4dfa",
   "metadata": {},
   "source": [
    "배치 차원을 제외하고 모두 하나의 차원으로 통합된 것을 볼 수 있다. 이제 이에 대해서 전결합층(Fully-Connected layer)를 통과시켜본다. 출력층으로 10개의 뉴런을 배치하여 10개 차원의 텐서로 변환한다."
   ]
  },
  {
   "cell_type": "code",
   "execution_count": 39,
   "id": "a3894808",
   "metadata": {},
   "outputs": [
    {
     "name": "stdout",
     "output_type": "stream",
     "text": [
      "torch.Size([1, 10])\n"
     ]
    }
   ],
   "source": [
    "fc = nn.Linear(3136, 10)\n",
    "out = fc(out)\n",
    "print(out.shape)"
   ]
  },
  {
   "cell_type": "markdown",
   "id": "61eb5eb9",
   "metadata": {},
   "source": [
    "## 3. CNN으로 MNIST 분류하기"
   ]
  },
  {
   "cell_type": "code",
   "execution_count": 40,
   "id": "467a7096",
   "metadata": {},
   "outputs": [],
   "source": [
    "import torch\n",
    "import torchvision.datasets as dsets\n",
    "import torchvision.transforms as transforms\n",
    "import torch.nn.init"
   ]
  },
  {
   "cell_type": "code",
   "execution_count": 41,
   "id": "2d935395",
   "metadata": {},
   "outputs": [],
   "source": [
    "device = 'cuda' if torch.cuda.is_available() else 'cpu'\n",
    "\n",
    "torch.manual_seed(777)\n",
    "\n",
    "if device == 'cuda':\n",
    "    torch.cuda.manual_seed_all(777)"
   ]
  },
  {
   "cell_type": "code",
   "execution_count": 43,
   "id": "b3967015",
   "metadata": {},
   "outputs": [],
   "source": [
    "learning_rate = 0.001\n",
    "training_epochs = 15\n",
    "batch_size = 100"
   ]
  },
  {
   "cell_type": "code",
   "execution_count": 50,
   "id": "16461601",
   "metadata": {},
   "outputs": [],
   "source": [
    "mnist_train = dsets.MNIST(root='MNIST_data/', # 다운로드 경로 지정\n",
    "                          train=True, # True를 지정하면 훈련 데이터로 다운로드\n",
    "                          transform=transforms.ToTensor(), # 텐서로 변환\n",
    "                          download=True)\n",
    "\n",
    "mnist_test = dsets.MNIST(root='MNIST_data/', # 다운로드 경로 지정\n",
    "                         train=False, # False를 지정하면 테스트 데이터로 다운로드\n",
    "                         transform=transforms.ToTensor(), # 텐서로 변환\n",
    "                         download=True)"
   ]
  },
  {
   "cell_type": "code",
   "execution_count": 45,
   "id": "0451aab5",
   "metadata": {},
   "outputs": [],
   "source": [
    "data_loader = torch.utils.data.DataLoader(dataset=mnist_train,\n",
    "                                          batch_size=batch_size,\n",
    "                                          shuffle=True,\n",
    "                                          drop_last=True)"
   ]
  },
  {
   "cell_type": "code",
   "execution_count": 46,
   "id": "fc500fa9",
   "metadata": {},
   "outputs": [],
   "source": [
    "class CNN(torch.nn.Module):\n",
    "\n",
    "    def __init__(self):\n",
    "        super(CNN, self).__init__()\n",
    "        self.layer1 = torch.nn.Sequential(\n",
    "            torch.nn.Conv2d(1, 32, kernel_size=3, stride=1, padding=1),\n",
    "            torch.nn.ReLU(),\n",
    "            torch.nn.MaxPool2d(kernel_size=2, stride=2))\n",
    "\n",
    "        self.layer2 = torch.nn.Sequential(\n",
    "            torch.nn.Conv2d(32, 64, kernel_size=3, stride=1, padding=1),\n",
    "            torch.nn.ReLU(),\n",
    "            torch.nn.MaxPool2d(kernel_size=2, stride=2))\n",
    "\n",
    "        self.fc = torch.nn.Linear(7 * 7 * 64, 10, bias=True)\n",
    "\n",
    "        torch.nn.init.xavier_uniform_(self.fc.weight)\n",
    "\n",
    "    def forward(self, x):\n",
    "        out = self.layer1(x)\n",
    "        out = self.layer2(out)\n",
    "        out = out.view(out.size(0), -1)   \n",
    "        out = self.fc(out)\n",
    "        return out"
   ]
  },
  {
   "cell_type": "code",
   "execution_count": 47,
   "id": "b018324a",
   "metadata": {},
   "outputs": [],
   "source": [
    "model = CNN().to(device)"
   ]
  },
  {
   "cell_type": "code",
   "execution_count": 48,
   "id": "1fe37d57",
   "metadata": {},
   "outputs": [],
   "source": [
    "criterion = torch.nn.CrossEntropyLoss().to(device)\n",
    "optimizer = torch.optim.Adam(model.parameters(), lr=learning_rate)"
   ]
  },
  {
   "cell_type": "code",
   "execution_count": 49,
   "id": "1a5005df",
   "metadata": {},
   "outputs": [
    {
     "name": "stdout",
     "output_type": "stream",
     "text": [
      "총 배치의 수 : 600\n"
     ]
    }
   ],
   "source": [
    "total_batch = len(data_loader)\n",
    "print('총 배치의 수 : {}'.format(total_batch))"
   ]
  },
  {
   "cell_type": "code",
   "execution_count": 51,
   "id": "3cc485c5",
   "metadata": {},
   "outputs": [
    {
     "name": "stdout",
     "output_type": "stream",
     "text": [
      "[Epoch:    1] cost = 0.225663364\n",
      "[Epoch:    2] cost = 0.0630790442\n",
      "[Epoch:    3] cost = 0.0462090448\n",
      "[Epoch:    4] cost = 0.0371714309\n",
      "[Epoch:    5] cost = 0.0308294613\n",
      "[Epoch:    6] cost = 0.0253169481\n",
      "[Epoch:    7] cost = 0.0210582539\n",
      "[Epoch:    8] cost = 0.0176130496\n",
      "[Epoch:    9] cost = 0.0157723483\n",
      "[Epoch:   10] cost = 0.0130445706\n",
      "[Epoch:   11] cost = 0.00996319856\n",
      "[Epoch:   12] cost = 0.00945368875\n",
      "[Epoch:   13] cost = 0.00808384456\n",
      "[Epoch:   14] cost = 0.00628022524\n",
      "[Epoch:   15] cost = 0.00676187035\n"
     ]
    }
   ],
   "source": [
    "for epoch in range(training_epochs):\n",
    "    avg_cost = 0\n",
    "\n",
    "    for X, Y in data_loader:\n",
    "    \n",
    "        X = X.to(device)\n",
    "        Y = Y.to(device)\n",
    "\n",
    "        optimizer.zero_grad()\n",
    "        hypothesis = model(X)\n",
    "        cost = criterion(hypothesis, Y)\n",
    "        cost.backward()\n",
    "        optimizer.step()\n",
    "\n",
    "        avg_cost += cost / total_batch\n",
    "\n",
    "    print('[Epoch: {:>4}] cost = {:>.9}'.format(epoch + 1, avg_cost))"
   ]
  },
  {
   "cell_type": "code",
   "execution_count": 53,
   "id": "d6da1caf",
   "metadata": {},
   "outputs": [
    {
     "name": "stdout",
     "output_type": "stream",
     "text": [
      "Accuracy: 0.9868000149726868\n"
     ]
    }
   ],
   "source": [
    "with torch.no_grad():\n",
    "    X_test = mnist_test.test_data.view(len(mnist_test), 1, 28, 28).float().to(device)\n",
    "    Y_test = mnist_test.test_labels.to(device)\n",
    "\n",
    "    prediction = model(X_test)\n",
    "    correct_prediction = torch.argmax(prediction, 1) == Y_test\n",
    "    accuracy = correct_prediction.float().mean()\n",
    "    print('Accuracy:', accuracy.item())"
   ]
  }
 ],
 "metadata": {
  "kernelspec": {
   "display_name": "Python 3",
   "language": "python",
   "name": "python3"
  },
  "language_info": {
   "codemirror_mode": {
    "name": "ipython",
    "version": 3
   },
   "file_extension": ".py",
   "mimetype": "text/x-python",
   "name": "python",
   "nbconvert_exporter": "python",
   "pygments_lexer": "ipython3",
   "version": "3.7.10"
  }
 },
 "nbformat": 4,
 "nbformat_minor": 5
}
